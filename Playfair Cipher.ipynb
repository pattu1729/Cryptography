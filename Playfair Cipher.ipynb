{
 "cells": [
  {
   "cell_type": "code",
   "execution_count": 14,
   "id": "6b00e8b5",
   "metadata": {},
   "outputs": [],
   "source": [
    "def matrix(x,y,initial):\n",
    "    return [[initial for i in range(x)] for j in range(y)]\n",
    "    \n",
    "result=list()\n",
    "#storing key\n",
    "for c in key: \n",
    "    if c not in result:\n",
    "        if c=='J':\n",
    "            result.append('I')\n",
    "        else:\n",
    "            result.append(c)\n",
    "flag=0\n",
    "\n",
    "#storing other character\n",
    "for i in range(65,91): \n",
    "    if chr(i) not in result:\n",
    "        if i==73 and chr(74) not in result:\n",
    "            result.append(\"I\")\n",
    "            flag=1\n",
    "        elif flag==0 and i==73 or i==74:\n",
    "            pass    \n",
    "        else:\n",
    "            result.append(chr(i))\n",
    "k=0\n",
    "\n",
    "#initialize matrix\n",
    "my_matrix=matrix(5,5,0) \n",
    "#making matrix\n",
    "for i in range(0,5): \n",
    "    for j in range(0,5):\n",
    "        my_matrix[i][j]=result[k]\n",
    "        k+=1\n",
    "\n",
    "#Get location of each character\n",
    "def locindex(c): \n",
    "    loc=list()\n",
    "    if c=='J':\n",
    "        c='I'\n",
    "    for i ,j in enumerate(my_matrix):\n",
    "        for k,l in enumerate(j):\n",
    "            if c==l:\n",
    "                loc.append(i)\n",
    "                loc.append(k)\n",
    "                return loc"
   ]
  },
  {
   "cell_type": "code",
   "execution_count": 15,
   "id": "7824fed1",
   "metadata": {},
   "outputs": [],
   "source": [
    "#Encryption\n",
    "def encryption():  \n",
    "    msg=str(input(\"Enter the message to Encrypt: \"))\n",
    "    msg=msg.upper()\n",
    "    msg=msg.replace(\" \", \"\")             \n",
    "    i=0\n",
    "    for s in range(0,len(msg)+1,2):\n",
    "        if s<len(msg)-1:\n",
    "            if msg[s]==msg[s+1]:\n",
    "                msg=msg[:s+1]+'X'+msg[s+1:]\n",
    "    if len(msg)%2!=0:\n",
    "        msg=msg[:]+'X'\n",
    "    print(\"Cipher text: \",end=' ')\n",
    "    while i<len(msg):\n",
    "        loc=list()\n",
    "        loc=locindex(msg[i])\n",
    "        loc1=list()\n",
    "        loc1=locindex(msg[i+1])\n",
    "        if loc[1]==loc1[1]:\n",
    "            print(\"{}{}\".format(my_matrix[(loc[0]+1)%5][loc[1]],my_matrix[(loc1[0]+1)%5][loc1[1]]),end=' ')\n",
    "        elif loc[0]==loc1[0]:\n",
    "            print(\"{}{}\".format(my_matrix[loc[0]][(loc[1]+1)%5],my_matrix[loc1[0]][(loc1[1]+1)%5]),end=' ')  \n",
    "        else:\n",
    "            print(\"{}{}\".format(my_matrix[loc[0]][loc1[1]],my_matrix[loc1[0]][loc[1]]),end=' ')    \n",
    "        i=i+2                       "
   ]
  },
  {
   "cell_type": "code",
   "execution_count": 16,
   "id": "c9eba2ac",
   "metadata": {},
   "outputs": [],
   "source": [
    "#Decryption\n",
    "def decryption():  \n",
    "    msg=str(input(\"\\nEnter the Cipher text: \"))\n",
    "    msg=msg.upper()\n",
    "    msg=msg.replace(\" \", \"\")\n",
    "    print(\"Decrypted message is: \",end=' ')\n",
    "    i=0\n",
    "    while i<len(msg):\n",
    "        loc=list()\n",
    "        loc=locindex(msg[i])\n",
    "        loc1=list()\n",
    "        loc1=locindex(msg[i+1])\n",
    "        if loc[1]==loc1[1]:\n",
    "            print(\"{}{}\".format(my_matrix[(loc[0]-1)%5][loc[1]],my_matrix[(loc1[0]-1)%5][loc1[1]]),end=' ')\n",
    "        elif loc[0]==loc1[0]:\n",
    "            print(\"{}{}\".format(my_matrix[loc[0]][(loc[1]-1)%5],my_matrix[loc1[0]][(loc1[1]-1)%5]),end=' ')  \n",
    "        else:\n",
    "            print(\"{}{}\".format(my_matrix[loc[0]][loc1[1]],my_matrix[loc1[0]][loc[1]]),end=' ')    \n",
    "        i=i+2        "
   ]
  },
  {
   "cell_type": "code",
   "execution_count": 17,
   "id": "98141c64",
   "metadata": {},
   "outputs": [
    {
     "name": "stdout",
     "output_type": "stream",
     "text": [
      "Enter key: playfair\n",
      "Enter the message to Encrypt: will of fire\n",
      "Cipher text:  TA QH EQ HW UA OM \n",
      "Enter the Cipher text: TA QH EQ HW UA OM\n",
      "Decrypted message is:  WI LX LO FX FI RE "
     ]
    }
   ],
   "source": [
    "key=input(\"Enter key: \")\n",
    "key=key.replace(\" \", \"\")\n",
    "key=key.upper()\n",
    "\n",
    "encryption()\n",
    "decryption()"
   ]
  },
  {
   "cell_type": "code",
   "execution_count": null,
   "id": "7d822af7",
   "metadata": {},
   "outputs": [],
   "source": [
    "while(1):\n",
    "    choice=int(input(\"\\n 1.Encryption \\n 2.Decryption \\n 3.Exit \\n\"))\n",
    "    if choice==1:\n",
    "        encryption()\n",
    "    elif choice==2:\n",
    "        decryption()\n",
    "    elif choice==3:\n",
    "        break\n",
    "    else:\n",
    "        print(\"Invalid option, choose right option\")"
   ]
  }
 ],
 "metadata": {
  "kernelspec": {
   "display_name": "Python 3",
   "language": "python",
   "name": "python3"
  },
  "language_info": {
   "codemirror_mode": {
    "name": "ipython",
    "version": 3
   },
   "file_extension": ".py",
   "mimetype": "text/x-python",
   "name": "python",
   "nbconvert_exporter": "python",
   "pygments_lexer": "ipython3",
   "version": "3.8.8"
  }
 },
 "nbformat": 4,
 "nbformat_minor": 5
}
