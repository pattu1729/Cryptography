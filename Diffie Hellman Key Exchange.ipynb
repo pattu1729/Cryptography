{
 "cells": [
  {
   "cell_type": "markdown",
   "id": "3a166ce3",
   "metadata": {},
   "source": [
    "# CSI3002\tApplied Cryptography and Network Security\n",
    "\n",
    "## Diffie Hellman Key Exchange"
   ]
  },
  {
   "cell_type": "markdown",
   "id": "00d7399e",
   "metadata": {},
   "source": [
    "## SRI HARIHARAN R 19MID0024"
   ]
  },
  {
   "cell_type": "markdown",
   "id": "1ad95f2c",
   "metadata": {},
   "source": [
    "## Generating Public Keys"
   ]
  },
  {
   "cell_type": "code",
   "execution_count": 5,
   "id": "f23cb63a",
   "metadata": {},
   "outputs": [],
   "source": [
    "def pub_k1(g,xa,p):\n",
    "    res=(g**xa)%p\n",
    "    return res\n",
    "\n",
    "def pub_k2(g,xb,p):\n",
    "    res=(g**xb)%p\n",
    "    return res\n"
   ]
  },
  {
   "cell_type": "markdown",
   "id": "9c0d8f3b",
   "metadata": {},
   "source": [
    "## Generating Shared Keys"
   ]
  },
  {
   "cell_type": "code",
   "execution_count": 6,
   "id": "00422ca4",
   "metadata": {},
   "outputs": [],
   "source": [
    "def shared_key1(yb,xa,p):\n",
    "    k1=(yb**xa)%p\n",
    "    return k1\n",
    "\n",
    "def shared_key2(ya,xb,p):\n",
    "    k2=(ya**xb)%p\n",
    "    return k2"
   ]
  },
  {
   "cell_type": "markdown",
   "id": "4a646b5c",
   "metadata": {},
   "source": [
    "## Getting Input "
   ]
  },
  {
   "cell_type": "code",
   "execution_count": 8,
   "id": "461cc43b",
   "metadata": {},
   "outputs": [
    {
     "name": "stdout",
     "output_type": "stream",
     "text": [
      "Enter a Prime No 107\n",
      "Enter a Generator 5\n",
      "Enter a private key 1 11\n",
      "Enter a private key 2 24\n",
      "ya =  66 yb =  81\n",
      "k1 =  64 k2 =  64\n"
     ]
    }
   ],
   "source": [
    "\n",
    "p=int(input(\"Enter a Prime No \"))\n",
    "g=int(input(\"Enter a Generator \"))\n",
    "xa=int(input(\"Enter a private key 1 \"))\n",
    "xb=int(input(\"Enter a private key 2 \"))\n",
    "\n",
    "ya=pub_k1(g,xa,p)\n",
    "yb=pub_k2(g,xb,p)\n",
    "\n",
    "\n",
    "print(\"ya = \",ya,\"yb = \",yb)\n",
    "\n",
    "k1=shared_key1(yb,xa,p)\n",
    "k2=shared_key2(ya,xb,p)\n",
    "\n",
    "print(\"k1 = \",k1,\"k2 = \",k2)\n"
   ]
  },
  {
   "cell_type": "code",
   "execution_count": null,
   "id": "6e6aa603",
   "metadata": {},
   "outputs": [],
   "source": []
  }
 ],
 "metadata": {
  "kernelspec": {
   "display_name": "Python 3",
   "language": "python",
   "name": "python3"
  },
  "language_info": {
   "codemirror_mode": {
    "name": "ipython",
    "version": 3
   },
   "file_extension": ".py",
   "mimetype": "text/x-python",
   "name": "python",
   "nbconvert_exporter": "python",
   "pygments_lexer": "ipython3",
   "version": "3.8.8"
  }
 },
 "nbformat": 4,
 "nbformat_minor": 5
}
