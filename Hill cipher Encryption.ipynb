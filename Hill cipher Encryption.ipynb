{
 "cells": [
  {
   "cell_type": "code",
   "execution_count": 2,
   "id": "7a72b3c6",
   "metadata": {},
   "outputs": [],
   "source": [
    "import numpy as np\n",
    "\n",
    "def encrypt(msg):\n",
    "    msg = msg.replace(\" \", \"\")\n",
    "    C = make_key()\n",
    "    len_check = len(msg) % 2 == 0\n",
    "    if not len_check:\n",
    "        msg += \"0\"\n",
    "    P = create_matrix_of_integers_from_string(msg)\n",
    "    msg_len = int(len(msg) / 2)\n",
    "    encrypted_msg = \"\"\n",
    "    for i in range(msg_len):\n",
    "        row_0 = P[0][i] * C[0][0] + P[1][i] * C[0][1]\n",
    "        integer = int(row_0 % 26 + 65)\n",
    "        encrypted_msg += chr(integer)\n",
    "        row_1 = P[0][i] * C[1][0] + P[1][i] * C[1][1]\n",
    "        integer = int(row_1 % 26 + 65)\n",
    "        encrypted_msg += chr(integer)\n",
    "    return encrypted_msg"
   ]
  },
  {
   "cell_type": "code",
   "execution_count": 3,
   "id": "5de4bf4d",
   "metadata": {},
   "outputs": [],
   "source": [
    "def decrypt(encrypted_msg):\n",
    "    # Ask for keyword and get encryption matrix\n",
    "    C = make_key()\n",
    "    # Inverse matrix\n",
    "    determinant = C[0][0] * C[1][1] - C[0][1] * C[1][0]\n",
    "    determinant = determinant % 26\n",
    "    multiplicative_inverse = find_multiplicative_inverse(determinant)\n",
    "    C_inverse = C\n",
    "    # Swap a <-> d\n",
    "    C_inverse[0][0], C_inverse[1][1] = C_inverse[1, 1], C_inverse[0, 0]\n",
    "    # Replace\n",
    "    C[0][1] *= -1\n",
    "    C[1][0] *= -1\n",
    "    for row in range(2):\n",
    "        for column in range(2):\n",
    "            C_inverse[row][column] *= multiplicative_inverse\n",
    "            C_inverse[row][column] = C_inverse[row][column] % 26\n",
    "\n",
    "    P = create_matrix_of_integers_from_string(encrypted_msg)\n",
    "    msg_len = int(len(encrypted_msg) / 2)\n",
    "    decrypted_msg = \"\"\n",
    "    for i in range(msg_len):\n",
    "        # Dot product\n",
    "        column_0 = P[0][i] * C_inverse[0][0] + P[1][i] * C_inverse[0][1]\n",
    "        # Modulate and add 65 to get back to the A-Z range in ascii\n",
    "        integer = int(column_0 % 26 + 65)\n",
    "        # Change back to chr type and add to text\n",
    "        decrypted_msg += chr(integer)\n",
    "        # Repeat for the second column\n",
    "        column_1 = P[0][i] * C_inverse[1][0] + P[1][i] * C_inverse[1][1]\n",
    "        integer = int(column_1 % 26 + 65)\n",
    "        decrypted_msg += chr(integer)\n",
    "    if decrypted_msg[-1] == \"0\":\n",
    "        decrypted_msg = decrypted_msg[:-1]\n",
    "    return decrypted_msg"
   ]
  },
  {
   "cell_type": "code",
   "execution_count": 4,
   "id": "5a14ba46",
   "metadata": {},
   "outputs": [],
   "source": [
    "# Make sure cipher determinant is relatively prime to 26 and only a/A - z/Z are given\n",
    "def make_key():\n",
    "    determinant = 0\n",
    "    C = None\n",
    "    while True:\n",
    "        cipher = input(\"Enter 4 letter cipher text: \")\n",
    "        C = create_matrix_of_integers_from_string(cipher)\n",
    "        determinant = C[0][0] * C[1][1] - C[0][1] * C[1][0]\n",
    "        determinant = determinant % 26\n",
    "        inverse_element = find_multiplicative_inverse(determinant)\n",
    "        if inverse_element == -1:\n",
    "            print(\"Determinant is not relatively prime to 26, uninvertible key\")\n",
    "        elif np.amax(C) > 26 and np.amin(C) < 0:\n",
    "            print(\"Only a-z characters are accepted\")\n",
    "            print(np.amax(C), np.amin(C))\n",
    "        else:\n",
    "            break\n",
    "    return C"
   ]
  },
  {
   "cell_type": "code",
   "execution_count": 5,
   "id": "2bee5e7b",
   "metadata": {},
   "outputs": [],
   "source": [
    "# Map string to a list of integers\n",
    "def create_matrix_of_integers_from_string(string):\n",
    "    integers = [chr_to_int(c) for c in string]\n",
    "    length = len(integers)\n",
    "    M = np.zeros((2, int(length / 2)), dtype=np.int32)\n",
    "    iterator = 0\n",
    "    for column in range(int(length / 2)):\n",
    "        for row in range(2):\n",
    "            M[row][column] = integers[iterator]\n",
    "            iterator += 1\n",
    "    return M"
   ]
  },
  {
   "cell_type": "code",
   "execution_count": 6,
   "id": "a8a0f628",
   "metadata": {},
   "outputs": [],
   "source": [
    "def find_multiplicative_inverse(determinant):\n",
    "    multiplicative_inverse = -1\n",
    "    for i in range(26):\n",
    "        inverse = determinant * i\n",
    "        if inverse % 26 == 1:\n",
    "            multiplicative_inverse = i\n",
    "            break\n",
    "    return multiplicative_inverse"
   ]
  },
  {
   "cell_type": "code",
   "execution_count": 7,
   "id": "b9353779",
   "metadata": {},
   "outputs": [],
   "source": [
    "def chr_to_int(char):\n",
    "    char = char.upper()\n",
    "    integer = ord(char) - 65\n",
    "    return integer"
   ]
  },
  {
   "cell_type": "code",
   "execution_count": 8,
   "id": "82c3dc34",
   "metadata": {},
   "outputs": [
    {
     "name": "stdout",
     "output_type": "stream",
     "text": [
      "Enter the message to Encrypt: Vellore institute of technology\n",
      "Enter 4 letter cipher text: fair\n",
      "The Encrypted message:  HQNFYDGGBUDGVCXQGHXQOPVELEOS\n",
      "Enter 4 letter cipher text: fair\n",
      "The Decrypted message:  VELLOREINSTITUTEOFTECHNOLOGY\n"
     ]
    }
   ],
   "source": [
    "if __name__ == \"__main__\":\n",
    "    msg = input(\"Enter the message to Encrypt: \")\n",
    "    encrypted_msg = encrypt(msg)\n",
    "    print(\"The Encrypted message: \",encrypted_msg)\n",
    "    decrypted_msg = decrypt(encrypted_msg)\n",
    "    print(\"The Decrypted message: \",decrypted_msg)"
   ]
  },
  {
   "cell_type": "code",
   "execution_count": null,
   "id": "c4104cac",
   "metadata": {},
   "outputs": [],
   "source": []
  }
 ],
 "metadata": {
  "kernelspec": {
   "display_name": "Python 3",
   "language": "python",
   "name": "python3"
  },
  "language_info": {
   "codemirror_mode": {
    "name": "ipython",
    "version": 3
   },
   "file_extension": ".py",
   "mimetype": "text/x-python",
   "name": "python",
   "nbconvert_exporter": "python",
   "pygments_lexer": "ipython3",
   "version": "3.8.8"
  }
 },
 "nbformat": 4,
 "nbformat_minor": 5
}
