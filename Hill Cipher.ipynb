{
 "cells": [
  {
   "cell_type": "code",
   "execution_count": 10,
   "id": "e05885a2",
   "metadata": {},
   "outputs": [],
   "source": [
    "import numpy as np\n",
    "\n",
    "def encrypt(msg):\n",
    "    # Replace spaces with nothing\n",
    "    msg = msg.replace(\" \", \"\")\n",
    "    # Ask for keyword and get encryption matrix\n",
    "    C = make_key()\n",
    "    # Append zero if the messsage isn't divisble by 2\n",
    "    len_check = len(msg) % 2 == 0\n",
    "    if not len_check:\n",
    "        msg += \"0\"\n",
    "    # Populate message matrix\n",
    "    P = create_matrix_of_integers_from_string(msg)\n",
    "    # Calculate length of the message\n",
    "    msg_len = int(len(msg) / 2)\n",
    "    # Calculate P * C\n",
    "    encrypted_msg = \"\"\n",
    "    for i in range(msg_len):\n",
    "        # Dot product\n",
    "        row_0 = P[0][i] * C[0][0] + P[1][i] * C[0][1]\n",
    "        # Modulate and add 65 to get back to the A-Z range in ascii\n",
    "        integer = int(row_0 % 26 + 65)\n",
    "        # Change back to chr type and add to text\n",
    "        encrypted_msg += chr(integer)\n",
    "        # Repeat for the second column\n",
    "        row_1 = P[0][i] * C[1][0] + P[1][i] * C[1][1]\n",
    "        integer = int(row_1 % 26 + 65)\n",
    "        encrypted_msg += chr(integer)\n",
    "    return encrypted_msg"
   ]
  },
  {
   "cell_type": "code",
   "execution_count": 11,
   "id": "d5ac122e",
   "metadata": {},
   "outputs": [],
   "source": [
    "def decrypt(encrypted_msg):\n",
    "    # Ask for keyword and get encryption matrix\n",
    "    C = make_key()\n",
    "    # Inverse matrix\n",
    "    determinant = C[0][0] * C[1][1] - C[0][1] * C[1][0]\n",
    "    determinant = determinant % 26\n",
    "    multiplicative_inverse = find_multiplicative_inverse(determinant)\n",
    "    C_inverse = C\n",
    "    # Swap a <-> d\n",
    "    C_inverse[0][0], C_inverse[1][1] = C_inverse[1, 1], C_inverse[0, 0]\n",
    "    # Replace\n",
    "    C[0][1] *= -1\n",
    "    C[1][0] *= -1\n",
    "    for row in range(2):\n",
    "        for column in range(2):\n",
    "            C_inverse[row][column] *= multiplicative_inverse\n",
    "            C_inverse[row][column] = C_inverse[row][column] % 26\n",
    "\n",
    "    P = create_matrix_of_integers_from_string(encrypted_msg)\n",
    "    msg_len = int(len(encrypted_msg) / 2)\n",
    "    decrypted_msg = \"\"\n",
    "    for i in range(msg_len):\n",
    "        # Dot product\n",
    "        column_0 = P[0][i] * C_inverse[0][0] + P[1][i] * C_inverse[0][1]\n",
    "        # Modulate and add 65 to get back to the A-Z range in ascii\n",
    "        integer = int(column_0 % 26 + 65)\n",
    "        # Change back to chr type and add to text\n",
    "        decrypted_msg += chr(integer)\n",
    "        # Repeat for the second column\n",
    "        column_1 = P[0][i] * C_inverse[1][0] + P[1][i] * C_inverse[1][1]\n",
    "        integer = int(column_1 % 26 + 65)\n",
    "        decrypted_msg += chr(integer)\n",
    "    if decrypted_msg[-1] == \"0\":\n",
    "        decrypted_msg = decrypted_msg[:-1]\n",
    "    return decrypted_msg"
   ]
  },
  {
   "cell_type": "code",
   "execution_count": 12,
   "id": "15dc26da",
   "metadata": {},
   "outputs": [],
   "source": [
    "def find_multiplicative_inverse(determinant):\n",
    "    multiplicative_inverse = -1\n",
    "    for i in range(26):\n",
    "        inverse = determinant * i\n",
    "        if inverse % 26 == 1:\n",
    "            multiplicative_inverse = i\n",
    "            break\n",
    "    return multiplicative_inverse\n",
    "\n",
    "\n",
    "\n",
    "def create_matrix_of_integers_from_string(string):\n",
    "    # Map string to a list of integers a/A <-> 0, b/B <-> 1 ... z/Z <-> 25\n",
    "    integers = [chr_to_int(c) for c in string]\n",
    "    length = len(integers)\n",
    "    M = np.zeros((2, int(length / 2)), dtype=np.int32)\n",
    "    iterator = 0\n",
    "    for column in range(int(length / 2)):\n",
    "        for row in range(2):\n",
    "            M[row][column] = integers[iterator]\n",
    "            iterator += 1\n",
    "    return M\n",
    "\n",
    "def chr_to_int(char):\n",
    "    # Uppercase the char to get into range 65-90 in ascii table\n",
    "    char = char.upper()\n",
    "    # Cast chr to int and subtract 65 to get 0-25\n",
    "    integer = ord(char) - 65\n",
    "    return integer"
   ]
  },
  {
   "cell_type": "code",
   "execution_count": 13,
   "id": "9dcc3793",
   "metadata": {},
   "outputs": [
    {
     "name": "stdout",
     "output_type": "stream",
     "text": [
      "Message: sdfgsdfghsdfg\n",
      "Input 4 letter cipher: test\n",
      "GZVEGZVEPGRDQN\n",
      "Input 4 letter cipher: test\n",
      "SDFGSDFGHSDFGJ\n"
     ]
    }
   ],
   "source": [
    "if __name__ == \"__main__\":\n",
    "    msg = input(\"Message: \")\n",
    "    encrypted_msg = encrypt(msg)\n",
    "    print(encrypted_msg)\n",
    "    decrypted_msg = decrypt(encrypted_msg)\n",
    "    print(decrypted_msg)"
   ]
  },
  {
   "cell_type": "code",
   "execution_count": null,
   "id": "972e5639",
   "metadata": {},
   "outputs": [],
   "source": []
  }
 ],
 "metadata": {
  "kernelspec": {
   "display_name": "Python 3",
   "language": "python",
   "name": "python3"
  },
  "language_info": {
   "codemirror_mode": {
    "name": "ipython",
    "version": 3
   },
   "file_extension": ".py",
   "mimetype": "text/x-python",
   "name": "python",
   "nbconvert_exporter": "python",
   "pygments_lexer": "ipython3",
   "version": "3.8.8"
  }
 },
 "nbformat": 4,
 "nbformat_minor": 5
}
