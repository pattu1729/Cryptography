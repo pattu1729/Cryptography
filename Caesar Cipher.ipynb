{
 "cells": [
  {
   "cell_type": "code",
   "execution_count": 33,
   "id": "62e388fd",
   "metadata": {},
   "outputs": [
    {
     "name": "stdout",
     "output_type": "stream",
     "text": [
      "Enter Plain text: abcd\n",
      "Enter the Key: 3\n"
     ]
    }
   ],
   "source": [
    "plaintxt=input(\"Enter Plain text: \")\n",
    "key=int(input(\"Enter the Key: \"))\n",
    "ciphertxt=\"\"\n",
    "nplaintxt=\"\""
   ]
  },
  {
   "cell_type": "code",
   "execution_count": 34,
   "id": "9352205a",
   "metadata": {},
   "outputs": [
    {
     "name": "stdout",
     "output_type": "stream",
     "text": [
      "Cipher text:  defg\n"
     ]
    }
   ],
   "source": [
    "for i in range(len(plaintxt)):\n",
    "        char = plaintxt[i]\n",
    "        \n",
    "        if (char.isupper()):\n",
    "            ciphertxt += chr((ord(char) + key-65) % 26 + 65)\n",
    " \n",
    "        else:\n",
    "            ciphertxt += chr((ord(char) + key-97) % 26 + 97)\n",
    "        \n",
    "print(\"Cipher text: \",ciphertxt)"
   ]
  },
  {
   "cell_type": "code",
   "execution_count": 35,
   "id": "b002e09d",
   "metadata": {},
   "outputs": [
    {
     "name": "stdout",
     "output_type": "stream",
     "text": [
      "Plain text:  abcd\n"
     ]
    }
   ],
   "source": [
    "for i in range(len(ciphertxt)):\n",
    "        char = ciphertxt[i]\n",
    "        \n",
    "        if (char.isupper()):\n",
    "            nplaintxt += chr((ord(char) - key-65) % 26 + 65)\n",
    " \n",
    "        else:\n",
    "            nplaintxt += chr((ord(char) - key-97) % 26 + 97)\n",
    "        \n",
    "print(\"Plain text: \",nplaintxt)"
   ]
  },
  {
   "cell_type": "code",
   "execution_count": null,
   "id": "0183c4c0",
   "metadata": {},
   "outputs": [],
   "source": []
  }
 ],
 "metadata": {
  "kernelspec": {
   "display_name": "Python 3",
   "language": "python",
   "name": "python3"
  },
  "language_info": {
   "codemirror_mode": {
    "name": "ipython",
    "version": 3
   },
   "file_extension": ".py",
   "mimetype": "text/x-python",
   "name": "python",
   "nbconvert_exporter": "python",
   "pygments_lexer": "ipython3",
   "version": "3.8.8"
  }
 },
 "nbformat": 4,
 "nbformat_minor": 5
}
